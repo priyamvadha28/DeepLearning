{
 "cells": [
  {
   "cell_type": "code",
   "execution_count": null,
   "metadata": {
    "vscode": {
     "languageId": "plaintext"
    }
   },
   "outputs": [],
   "source": [
    "import numpy as np\n",
    "import tensorflow as tf\n",
    "from tensorflow.keras.layers import Embedding, LSTM, Dense, Input, Dropout, add\n",
    "from tensorflow.keras.preprocessing.sequence import pad_sequences\n",
    "from tensorflow.keras.preprocessing.text import Tokenizer\n",
    "from tensorflow.keras.utils import to_categorical\n",
    "from tensorflow.keras.models import Model\n",
    "from tensorflow.keras.applications import VGG16\n",
    "from tensorflow.keras.preprocessing.image import load_img, img_to_array\n",
    "from nltk.translate.bleu_score import sentence_bleu\n",
    "import os"
   ]
  },
  {
   "cell_type": "code",
   "execution_count": null,
   "metadata": {
    "vscode": {
     "languageId": "plaintext"
    }
   },
   "outputs": [],
   "source": [
    "# Parameters\n",
    "vocab_size = 10000  # Adjust based on your dataset\n",
    "max_length = 35     # Set to a reasonable max length for captions"
   ]
  },
  {
   "cell_type": "code",
   "execution_count": null,
   "metadata": {
    "vscode": {
     "languageId": "plaintext"
    }
   },
   "outputs": [],
   "source": [
    "def extract_image_features(image_folder, model):\n",
    "    features = {}\n",
    "    for img_name in os.listdir(image_folder):\n",
    "        img_path = os.path.join(image_folder, img_name)\n",
    "        image = load_img(img_path, target_size=(224, 224))\n",
    "        image = img_to_array(image)\n",
    "        image = np.expand_dims(image, axis=0)\n",
    "        feature = model.predict(image, verbose=0)\n",
    "        features[img_name] = feature.flatten()\n",
    "    return features"
   ]
  },
  {
   "cell_type": "code",
   "execution_count": null,
   "metadata": {
    "vscode": {
     "languageId": "plaintext"
    }
   },
   "outputs": [],
   "source": [
    "# Load the pre-trained VGG16 model without top layers\n",
    "cnn_model = VGG16(weights=\"imagenet\", include_top=False, pooling=\"avg\")\n",
    "\n",
    "# Extract image features\n",
    "image_folder = r\"C:\\Users\\vicky\\Downloads\\MODEL ANS\\MODEL ANS\\imgfolder\"  # Replace with the path to your image folder\n",
    "image_features = extract_image_features(image_folder, cnn_model)"
   ]
  },
  {
   "cell_type": "code",
   "execution_count": null,
   "metadata": {
    "vscode": {
     "languageId": "plaintext"
    }
   },
   "outputs": [],
   "source": [
    "# Example captions dataset (load from file or define manually)\n",
    "captions_dict = {\n",
    "    \"img1.jpeg\": [\"A dog running in the field.\", \"A dog is playing outside.\"],\n",
    "    \"img2.jpeg\": [\"A girl on a swing.\", \"A child enjoying a swing in the park.\"],\n",
    "    # Add more image-caption pairs here...\n",
    "}\n",
    "\n",
    "# Prepare captions data\n",
    "captions_list = list(captions_dict.values())\n",
    "# Tokenize captions\n",
    "tokenizer = Tokenizer()\n",
    "tokenizer.fit_on_texts(captions_list)"
   ]
  },
  {
   "cell_type": "code",
   "execution_count": null,
   "metadata": {
    "vscode": {
     "languageId": "plaintext"
    }
   },
   "outputs": [],
   "source": [
    "# Prepare training sequences\n",
    "def create_sequences(tokenizer, max_length, desc, photo_features, vocab_size):\n",
    "    X1, X2, y = [], [], []\n",
    "    seq = tokenizer.texts_to_sequences([desc])[0]\n",
    "    for i in range(1, len(seq)):\n",
    "        in_seq, out_seq = seq[:i], seq[i]\n",
    "        in_seq = pad_sequences([in_seq], maxlen=max_length)[0]\n",
    "        out_seq = to_categorical([out_seq], num_classes=vocab_size)[0]\n",
    "        X1.append(photo_features)\n",
    "        X2.append(in_seq)\n",
    "        y.append(out_seq)\n",
    "    return np.array(X1), np.array(X2), np.array(y)"
   ]
  },
  {
   "cell_type": "code",
   "execution_count": null,
   "metadata": {
    "vscode": {
     "languageId": "plaintext"
    }
   },
   "outputs": [],
   "source": [
    "# Prepare data for training\n",
    "X1, X2, y = [], [], []\n",
    "for img_name, caption in captions_dict.items():\n",
    "    if img_name in image_features:\n",
    "        in_img, in_seq, out_word = create_sequences(\n",
    "            tokenizer, max_length, caption, image_features[img_name], vocab_size\n",
    "        )\n",
    "        X1.append(in_img)\n",
    "        X2.append(in_seq)\n",
    "        y.append(out_word)\n",
    "\n",
    "X1, X2, y = np.vstack(X1), np.vstack(X2), np.vstack(y)"
   ]
  },
  {
   "cell_type": "code",
   "execution_count": null,
   "metadata": {
    "vscode": {
     "languageId": "plaintext"
    }
   },
   "outputs": [],
   "source": [
    "# Model definition\n",
    "def define_model(vocab_size, max_length):\n",
    "    inputs1 = Input(shape=(512,))\n",
    "    fe1 = Dropout(0.5)(inputs1)\n",
    "    fe2 = Dense(256, activation=\"relu\")(fe1)\n",
    "\n",
    "    inputs2 = Input(shape=(max_length,))\n",
    "    se1 = Embedding(vocab_size, 256, mask_zero=True)(inputs2)\n",
    "    se2 = Dropout(0.5)(se1)\n",
    "    se3 = LSTM(256)(se2)\n",
    "\n",
    "    decoder1 = add([fe2, se3])\n",
    "    decoder2 = Dense(256, activation=\"relu\")(decoder1)\n",
    "    outputs = Dense(vocab_size, activation=\"softmax\")(decoder2)\n",
    "\n",
    "    model = Model(inputs=[inputs1, inputs2], outputs=outputs)\n",
    "    model.compile(loss=\"categorical_crossentropy\", optimizer=\"adam\")\n",
    "    return model\n",
    "\n",
    "# Initialize model\n",
    "model = define_model(vocab_size, max_length)\n",
    "\n",
    "# Train model\n",
    "model.fit([X1, X2], y, epochs=20, verbose=2)"
   ]
  },
  {
   "cell_type": "code",
   "execution_count": null,
   "metadata": {
    "vscode": {
     "languageId": "plaintext"
    }
   },
   "outputs": [],
   "source": [
    "# Caption generation\n",
    "def generate_caption(model, tokenizer, photo_features, max_length):\n",
    "    in_text = 'startseq'\n",
    "    for _ in range(max_length):\n",
    "        sequence = tokenizer.texts_to_sequences([in_text])[0]\n",
    "        sequence = pad_sequences([sequence], maxlen=max_length)\n",
    "        yhat = model.predict([photo_features, sequence], verbose=0)\n",
    "        yhat = np.argmax(yhat)\n",
    "        word = tokenizer.index_word.get(yhat, None)\n",
    "        if word is None:\n",
    "            break\n",
    "        in_text += \" \" + word\n",
    "        if word == \"endseq\":\n",
    "            break\n",
    "    return in_text"
   ]
  },
  {
   "cell_type": "code",
   "execution_count": null,
   "metadata": {
    "vscode": {
     "languageId": "plaintext"
    }
   },
   "outputs": [],
   "source": [
    "# Test with a new image\n",
    "def extract_single_image_features(img_path, model):\n",
    "    image = load_img(img_path, target_size=(224, 224))\n",
    "    image = img_to_array(image)\n",
    "    image = np.expand_dims(image, axis=0)\n",
    "    image = tf.keras.applications.vgg16.preprocess_input(image)\n",
    "    feature = model.predict(image, verbose=0)\n",
    "    return feature.flatten()\n",
    "test_image = r\"C:\\Users\\vicky\\Downloads\\MODEL ANS\\MODEL ANS\\imgfolder\\test1.jpeg\"  # Replace wteith the path to a test image\n",
    "test_features = extract_single_image_features(test_image, cnn_model)\n",
    "generated_caption=generate_caption(model, tokenizer, test_features.reshape(1, -1), max_length)\n",
    "generated_caption=generated_caption.split('.')\n",
    "print(\"Generated Caption:\", generated_caption[1])\n",
    "reference_captions = [\n",
    "    [\"a\", \"dog\", \"running\", \"in\", \"the\", \"field\"],\n",
    "    [\"a\", \"dog\", \"is\", \"playing\", \"outside\"]\n",
    "]"
   ]
  },
  {
   "cell_type": "code",
   "execution_count": null,
   "metadata": {
    "vscode": {
     "languageId": "plaintext"
    }
   },
   "outputs": [],
   "source": [
    "# Replace with actual reference captions for test image\n",
    "generated_caption_words = generated_caption[1].split()  # Remove 'startseq' and 'endseq' tokens if present\n",
    "bleu_score = sentence_bleu(reference_captions, generated_caption_words)\n",
    "print(\"BLEU Score:\", bleu_score)"
   ]
  }
 ],
 "metadata": {
  "language_info": {
   "name": "python"
  }
 },
 "nbformat": 4,
 "nbformat_minor": 2
}
